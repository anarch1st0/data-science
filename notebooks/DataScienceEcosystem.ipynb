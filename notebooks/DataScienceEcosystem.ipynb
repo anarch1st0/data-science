{
 "cells": [
  {
   "cell_type": "markdown",
   "id": "600f79d7",
   "metadata": {},
   "source": [
    "# Data Science Tools and Ecosystem"
   ]
  },
  {
   "cell_type": "markdown",
   "id": "5478e50f",
   "metadata": {},
   "source": [
    "## Introduction\n",
    "\n",
    "In this notebook, we will explore the comprehensive ecosystem of data science tools, languages, and libraries. This final assignment summarizes the key components that data scientists use in their daily work, including programming languages, essential libraries, development environments, and practical examples of data manipulation and analysis."
   ]
  },
  {
   "cell_type": "markdown",
   "id": "0e7ae6de",
   "metadata": {},
   "source": [
    "## Data Science Languages\n",
    "\n",
    "Some of the popular languages that Data Scientists use are:\n",
    "\n",
    "1. **Python** - Most popular for data science due to its simplicity and extensive libraries\n",
    "2. **R** - Specifically designed for statistical computing and graphics\n",
    "3. **SQL** - Essential for database querying and data extraction\n",
    "4. **Scala** - Used with Apache Spark for big data processing\n",
    "5. **Java** - Useful for big data tools and enterprise applications\n",
    "6. **Julia** - High-performance language for numerical analysis\n",
    "7. **JavaScript** - Used for data visualization and web-based analytics\n",
    "8. **C++** - Used for performance-critical applications\n",
    "9. **Go** - Emerging language for data engineering\n",
    "10. **SAS** - Traditional statistical software language"
   ]
  },
  {
   "cell_type": "markdown",
   "id": "175129b8",
   "metadata": {},
   "source": [
    "## Data Science Libraries\n",
    "\n",
    "Some of the commonly used libraries used by Data Scientists include:\n",
    "\n",
    "### Python Libraries:\n",
    "1. **NumPy** - Numerical computing with arrays\n",
    "2. **Pandas** - Data manipulation and analysis\n",
    "3. **Matplotlib** - Data visualization and plotting\n",
    "4. **Seaborn** - Statistical data visualization\n",
    "5. **Scikit-learn** - Machine learning algorithms\n",
    "6. **TensorFlow** - Deep learning framework\n",
    "7. **PyTorch** - Deep learning and neural networks\n",
    "8. **Keras** - High-level neural networks API\n",
    "9. **SciPy** - Scientific computing\n",
    "10. **Plotly** - Interactive data visualization\n",
    "\n",
    "### R Libraries:\n",
    "1. **ggplot2** - Data visualization\n",
    "2. **dplyr** - Data manipulation\n",
    "3. **caret** - Classification and regression training\n",
    "4. **randomForest** - Random forest algorithm\n",
    "5. **shiny** - Web applications for R"
   ]
  },
  {
   "cell_type": "markdown",
   "id": "1ac02d13",
   "metadata": {},
   "source": [
    "## Data Science Tools\n",
    "\n",
    "| Tool | Category | Description |\n",
    "|------|----------|-------------|\n",
    "| **Jupyter Notebook** | Development Environment | Interactive computing environment |\n",
    "| **RStudio** | Development Environment | IDE for R programming |\n",
    "| **Apache Spark** | Big Data Processing | Unified analytics engine |\n",
    "| **Tableau** | Data Visualization | Business intelligence platform |\n",
    "| **Power BI** | Data Visualization | Microsoft's business analytics tool |\n",
    "| **Apache Kafka** | Data Streaming | Distributed streaming platform |\n",
    "| **Docker** | Containerization | Platform for developing applications |\n",
    "| **Git** | Version Control | Distributed version control system |\n",
    "| **MySQL** | Database | Relational database management system |\n",
    "| **MongoDB** | Database | NoSQL document database |\n",
    "| **Hadoop** | Big Data Framework | Distributed storage and processing |\n",
    "| **Airflow** | Workflow Management | Platform for workflow orchestration |"
   ]
  },
  {
   "cell_type": "markdown",
   "id": "2dd14ffa",
   "metadata": {},
   "source": [
    "### Below are a few examples of evaluating arithmetic expressions in Python\n",
    "\n",
    "Arithmetic expressions are fundamental in data science for performing calculations, statistical analysis, and data transformations. Python provides standard mathematical operators that allow us to perform various calculations efficiently."
   ]
  },
  {
   "cell_type": "code",
   "execution_count": 1,
   "id": "7510bc14",
   "metadata": {},
   "outputs": [
    {
     "name": "stdout",
     "output_type": "stream",
     "text": [
      "(3 * 4) + 5 = 17\n"
     ]
    }
   ],
   "source": [
    "# This is a simple arithmetic expression to multiply then add integers\n",
    "result = (3 * 4) + 5\n",
    "print(f\"(3 * 4) + 5 = {result}\")"
   ]
  },
  {
   "cell_type": "code",
   "execution_count": 2,
   "id": "9980e24c",
   "metadata": {},
   "outputs": [
    {
     "name": "stdout",
     "output_type": "stream",
     "text": [
      "200 minutes is equal to 3.3333333333333335 hours\n"
     ]
    }
   ],
   "source": [
    "# This will convert 200 minutes to hours by dividing by 60\n",
    "minutes = 200\n",
    "hours = minutes / 60\n",
    "print(f\"{minutes} minutes is equal to {hours} hours\")"
   ]
  },
  {
   "cell_type": "markdown",
   "id": "c562d58e",
   "metadata": {},
   "source": [
    "## Objectives\n",
    "\n",
    "This notebook covers the following key learning objectives:\n",
    "\n",
    "- List popular languages for Data Science\n",
    "- Identify commonly used libraries in Data Science\n",
    "- Understand various Data Science tools and development environments\n",
    "- Create and execute basic arithmetic expressions in Python\n",
    "- Perform practical data manipulation tasks like unit conversions\n",
    "- Demonstrate proficiency in using Jupyter Notebook for data science workflows"
   ]
  },
  {
   "cell_type": "markdown",
   "id": "4e25f1a4",
   "metadata": {},
   "source": [
    "## Author\n",
    "\n",
    "**Name:** Yash Dogra  \n",
    "**Course:** Data Science Tools and Ecosystem  \n",
    "**Date:** September 2025\n",
    "\n",
    "> Replace the placeholder above with your real name before sharing the GitHub link."
   ]
  },
  {
   "cell_type": "markdown",
   "id": "8158fe3f",
   "metadata": {},
   "source": [
    "## Sharing the Notebook (Exercise 12)\n",
    "\n",
    "To complete Exercise 12, upload this notebook (`DataScienceEcosystem.ipynb`) to a **public GitHub repository** and provide the link.\n",
    "\n",
    "**Steps to Share:**\n",
    "1. Create (or open) a GitHub repository (public).\n",
    "2. Click \"Add file\" → \"Upload files\" and select this notebook.\n",
    "3. Commit the changes.\n",
    "4. Open the notebook in the repo and copy the URL (it should look like: `https://github.com/<username>/<repo>/blob/main/DataScienceEcosystem.ipynb`).\n",
    "5. (Optional) Also click the \"Raw\" button and ensure it loads—this confirms public access.\n",
    "\n",
    "**Paste your public GitHub link here:**\n",
    "`<ADD LINK HERE>`\n",
    "\n",
    "**Verification Checklist:**\n",
    "- Repository is public ✅\n",
    "- Notebook renders on GitHub ✅\n",
    "- All cells are visible ✅\n",
    "- Code cells executed (outputs present) ✅"
   ]
  },
  {
   "cell_type": "markdown",
   "id": "f52b5cd3",
   "metadata": {},
   "source": [
    "## Screenshot Instructions (Exercise 13)\n",
    "\n",
    "Take a screenshot of the **first page** of this notebook showing:\n",
    "- The title\n",
    "- Introduction\n",
    "- Languages section (at least partially)\n",
    "- And the top of the next section if possible\n",
    "\n",
    "**How to Capture (macOS):** Press `Shift + Command + 4` then drag to select the visible area.\n",
    "\n",
    "**Best Practices:**\n",
    "- Make sure outputs from code cells (Exercises 8 and 9) are executed before capturing.\n",
    "- Use `.png` or `.jpg` format.\n",
    "- Ensure text is readable (avoid zooming out too far).\n",
    "\n",
    "After capturing, you'll upload the screenshot per the course submission instructions."
   ]
  }
 ],
 "metadata": {
  "kernelspec": {
   "display_name": ".venv (3.13.7)",
   "language": "python",
   "name": "python3"
  },
  "language_info": {
   "codemirror_mode": {
    "name": "ipython",
    "version": 3
   },
   "file_extension": ".py",
   "mimetype": "text/x-python",
   "name": "python",
   "nbconvert_exporter": "python",
   "pygments_lexer": "ipython3",
   "version": "3.13.7"
  }
 },
 "nbformat": 4,
 "nbformat_minor": 5
}
