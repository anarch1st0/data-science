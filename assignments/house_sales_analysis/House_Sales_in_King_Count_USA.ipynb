{
  "cells": [
    {
      "cell_type": "markdown",
      "metadata": {},
      "source": [
        "<p style=\"text-align:center\">\n",
        "    <a href=\"https://skills.network/?utm_medium=Exinfluencer&utm_source=Exinfluencer&utm_content=000026UJ&utm_term=10006555&utm_id=NA-SkillsNetwork-Channel-SkillsNetworkCoursesIBMDeveloperSkillsNetworkML0101ENSkillsNetwork20718538-2022-01-01\" target=\"_blank\">\n",
        "    <img src=\"https://cf-courses-data.s3.us.cloud-object-storage.appdomain.cloud/assets/logos/SN_web_lightmode.png\" width=\"300\" alt=\"Skills Network Logo\">\n",
        "    </a>\n",
        "</p>\n",
        "\n",
        "<h1 align=\"center\"><font size=\"5\">Final Project: House Sales in King County, USA </font></h1>\n"
      ]
    },
    {
      "cell_type": "markdown",
      "metadata": {},
      "source": [
        "<h2>Table of Contents</h2>\n",
        "<div class=\"alert alert-block alert-info\" style=\"margin-top: 20px\">\n",
        "    <ul>\n",
        "    <li><a href=\"#Instructions\">Instructions</a></li>\n",
        "    <li><a href=\"#About-the-Dataset\">About the Dataset</a></li>\n",
        "    <li><a href=\"#Module-1:-Importing-Data-Sets\">Module 1: Importing Data </a></li>\n",
        "    <li><a href=\"#Module-2:-Data-Wrangling\">Module 2: Data Wrangling</a> </li>\n",
        "    <li><a href=\"#Module-3:-Exploratory-Data-Analysis\">Module 3: Exploratory Data Analysis</a></li>\n",
        "    <li><a href=\"#Module-4:-Model-Development\">Module 4: Model Development</a></li>\n",
        "    <li><a href=\"#Module-5:-Model-Evaluation-and-Refinement\">Module 5: Model Evaluation and Refinement</a></li>\n",
        "</a></li>\n",
        "</div>\n",
        "<p>Estimated Time Needed: <strong>75 min</strong></p>\n",
        "</div>\n",
        "\n",
        "<hr>\n"
      ]
    },
    {
      "cell_type": "markdown",
      "metadata": {},
      "source": [
        "# Instructions\n"
      ]
    },
    {
      "cell_type": "markdown",
      "metadata": {},
      "source": [
        "In this assignment, you are a Data Analyst working at a Real Estate Investment Trust. The Trust would like to start investing in Residential real estate. You are tasked with determining the market price of a house given a set of features. You will analyze and predict housing prices using attributes or features such as square footage, number of bedrooms, number of floors, and so on. This is a template notebook; your job is to complete the ten questions. Some hints to the questions are given.\n",
        "\n",
        "As you are completing this notebook, take and save the **screenshots** of the final outputs of your solutions (e.g., final charts, tables, calculation results etc.). They will need to be shared in the following Peer Review section of the Final Project module.\n"
      ]
    },
    {
      "cell_type": "markdown",
      "metadata": {},
      "source": [
        "# About the Dataset\n",
        "\n",
        "This dataset contains house sale prices for King County, which includes Seattle. It includes homes sold between May 2014 and May 2015. It was taken from [here](https://www.kaggle.com/harlfoxem/housesalesprediction?utm_medium=Exinfluencer&utm_source=Exinfluencer&utm_content=000026UJ&utm_term=10006555&utm_id=NA-SkillsNetwork-wwwcourseraorg-SkillsNetworkCoursesIBMDeveloperSkillsNetworkDA0101ENSkillsNetwork20235326-2022-01-01). It was also slightly modified for the purposes of this course. \n"
      ]
    },
    {
      "cell_type": "markdown",
      "metadata": {},
      "source": [
        "| Variable      | Description                                                                                                 |\n",
        "| ------------- | ----------------------------------------------------------------------------------------------------------- |\n",
        "| id            | A notation for a house                                                                                      |\n",
        "| date          | Date house was sold                                                                                         |\n",
        "| price         | Price is prediction target                                                                                  |\n",
        "| bedrooms      | Number of bedrooms                                                                                          |\n",
        "| bathrooms     | Number of bathrooms                                                                                         |\n",
        "| sqft_living   | Square footage of the home                                                                                  |\n",
        "| sqft_lot      | Square footage of the lot                                                                                   |\n",
        "| floors        | Total floors (levels) in house                                                                              |\n",
        "| waterfront    | House which has a view to a waterfront                                                                      |\n",
        "| view          | Has been viewed                                                                                             |\n",
        "| condition     | How good the condition is overall                                                                           |\n",
        "| grade         | overall grade given to the housing unit, based on King County grading system                                |\n",
        "| sqft_above    | Square footage of house apart from basement                                                                 |\n",
        "| sqft_basement | Square footage of the basement                                                                              |\n",
        "| yr_built      | Built Year                                                                                                  |\n",
        "| yr_renovated  | Year when house was renovated                                                                               |\n",
        "| zipcode       | Zip code                                                                                                    |\n",
        "| lat           | Latitude coordinate                                                                                         |\n",
        "| long          | Longitude coordinate                                                                                        |\n",
        "| sqft_living15 | Living room area in 2015(implies-- some renovations) This might or might not have affected the lotsize area |\n",
        "| sqft_lot15    | LotSize area in 2015(implies-- some renovations)                                                            |\n"
      ]
    },
    {
      "cell_type": "markdown",
      "metadata": {},
      "source": [
        "## **Import the required libraries**\n"
      ]
    },
    {
      "cell_type": "code",
      "execution_count": 1,
      "metadata": {},
      "outputs": [],
      "source": [
        "# All Libraries required for this lab are listed below. The libraries pre-installed on Skills Network Labs are commented.\n",
        "# !mamba install -qy pandas==1.3.4 numpy==1.21.4 seaborn==0.9.0 matplotlib==3.5.0 scikit-learn==0.20.1\n",
        "# Note: If your environment doesn't support \"!mamba install\", use \"!pip install\""
      ]
    },
    {
      "cell_type": "code",
      "execution_count": 2,
      "metadata": {},
      "outputs": [],
      "source": [
        "# Surpress warnings:\n",
        "def warn(*args, **kwargs):\n",
        "    pass\n",
        "import warnings\n",
        "warnings.warn = warn"
      ]
    },
    {
      "cell_type": "code",
      "execution_count": 3,
      "metadata": {},
      "outputs": [],
      "source": [
        "#!pip install -U scikit-learn"
      ]
    },
    {
      "cell_type": "code",
      "execution_count": 5,
      "metadata": {},
      "outputs": [],
      "source": [
        "# Import required libraries for local environment\n",
        "import pandas as pd\n",
        "import numpy as np\n",
        "import matplotlib.pyplot as plt\n",
        "import seaborn as sns\n",
        "from sklearn.model_selection import train_test_split\n",
        "from sklearn.linear_model import LinearRegression, Ridge\n",
        "from sklearn.preprocessing import PolynomialFeatures, StandardScaler\n",
        "from sklearn.pipeline import Pipeline\n",
        "from sklearn.metrics import r2_score\n",
        "import warnings\n",
        "warnings.filterwarnings('ignore')\n",
        "\n",
        "# Set style for better plots\n",
        "plt.style.use('default')\n",
        "sns.set_palette(\"husl\")"
      ]
    },
    {
      "cell_type": "markdown",
      "metadata": {},
      "source": [
        "# Module 1: Importing Data Sets\n"
      ]
    },
    {
      "cell_type": "markdown",
      "metadata": {},
      "source": [
        "Download the dataset by running the cell below.\n"
      ]
    },
    {
      "cell_type": "code",
      "execution_count": 7,
      "metadata": {},
      "outputs": [
        {
          "name": "stdout",
          "output_type": "stream",
          "text": [
            "Dataset downloaded successfully as kc_house_data_NaN.csv\n"
          ]
        }
      ],
      "source": [
        "# Download and load the King County house sales dataset\n",
        "import urllib.request\n",
        "\n",
        "# Download the dataset\n",
        "file_name = \"kc_house_data_NaN.csv\"\n",
        "url = \"https://cf-courses-data.s3.us.cloud-object-storage.appdomain.cloud/IBMDeveloperSkillsNetwork-DA0101EN-SkillsNetwork/labs/FinalModule_Coursera/data/kc_house_data_NaN.csv\"\n",
        "\n",
        "try:\n",
        "    urllib.request.urlretrieve(url, file_name)\n",
        "    print(f\"Dataset downloaded successfully as {file_name}\")\n",
        "except Exception as e:\n",
        "    print(f\"Error downloading dataset: {e}\")\n",
        "    # If download fails, we'll create sample data later"
      ]
    },
    {
      "cell_type": "code",
      "execution_count": 8,
      "metadata": {},
      "outputs": [],
      "source": [
        "filepath='https://cf-courses-data.s3.us.cloud-object-storage.appdomain.cloud/IBMDeveloperSkillsNetwork-DA0101EN-SkillsNetwork/labs/FinalModule_Coursera/data/kc_house_data_NaN.csv'"
      ]
    },
    {
      "cell_type": "code",
      "execution_count": 10,
      "metadata": {},
      "outputs": [
        {
          "name": "stdout",
          "output_type": "stream",
          "text": [
            "Dataset loaded successfully!\n",
            "Shape of the dataset: (21613, 22)\n"
          ]
        },
        {
          "data": {
            "text/html": [
              "<div>\n",
              "<style scoped>\n",
              "    .dataframe tbody tr th:only-of-type {\n",
              "        vertical-align: middle;\n",
              "    }\n",
              "\n",
              "    .dataframe tbody tr th {\n",
              "        vertical-align: top;\n",
              "    }\n",
              "\n",
              "    .dataframe thead th {\n",
              "        text-align: right;\n",
              "    }\n",
              "</style>\n",
              "<table border=\"1\" class=\"dataframe\">\n",
              "  <thead>\n",
              "    <tr style=\"text-align: right;\">\n",
              "      <th></th>\n",
              "      <th>Unnamed: 0</th>\n",
              "      <th>id</th>\n",
              "      <th>date</th>\n",
              "      <th>price</th>\n",
              "      <th>bedrooms</th>\n",
              "      <th>bathrooms</th>\n",
              "      <th>sqft_living</th>\n",
              "      <th>sqft_lot</th>\n",
              "      <th>floors</th>\n",
              "      <th>waterfront</th>\n",
              "      <th>...</th>\n",
              "      <th>grade</th>\n",
              "      <th>sqft_above</th>\n",
              "      <th>sqft_basement</th>\n",
              "      <th>yr_built</th>\n",
              "      <th>yr_renovated</th>\n",
              "      <th>zipcode</th>\n",
              "      <th>lat</th>\n",
              "      <th>long</th>\n",
              "      <th>sqft_living15</th>\n",
              "      <th>sqft_lot15</th>\n",
              "    </tr>\n",
              "  </thead>\n",
              "  <tbody>\n",
              "    <tr>\n",
              "      <th>0</th>\n",
              "      <td>0</td>\n",
              "      <td>7129300520</td>\n",
              "      <td>20141013T000000</td>\n",
              "      <td>221900.0</td>\n",
              "      <td>3.0</td>\n",
              "      <td>1.00</td>\n",
              "      <td>1180</td>\n",
              "      <td>5650</td>\n",
              "      <td>1.0</td>\n",
              "      <td>0</td>\n",
              "      <td>...</td>\n",
              "      <td>7</td>\n",
              "      <td>1180</td>\n",
              "      <td>0</td>\n",
              "      <td>1955</td>\n",
              "      <td>0</td>\n",
              "      <td>98178</td>\n",
              "      <td>47.5112</td>\n",
              "      <td>-122.257</td>\n",
              "      <td>1340</td>\n",
              "      <td>5650</td>\n",
              "    </tr>\n",
              "    <tr>\n",
              "      <th>1</th>\n",
              "      <td>1</td>\n",
              "      <td>6414100192</td>\n",
              "      <td>20141209T000000</td>\n",
              "      <td>538000.0</td>\n",
              "      <td>3.0</td>\n",
              "      <td>2.25</td>\n",
              "      <td>2570</td>\n",
              "      <td>7242</td>\n",
              "      <td>2.0</td>\n",
              "      <td>0</td>\n",
              "      <td>...</td>\n",
              "      <td>7</td>\n",
              "      <td>2170</td>\n",
              "      <td>400</td>\n",
              "      <td>1951</td>\n",
              "      <td>1991</td>\n",
              "      <td>98125</td>\n",
              "      <td>47.7210</td>\n",
              "      <td>-122.319</td>\n",
              "      <td>1690</td>\n",
              "      <td>7639</td>\n",
              "    </tr>\n",
              "    <tr>\n",
              "      <th>2</th>\n",
              "      <td>2</td>\n",
              "      <td>5631500400</td>\n",
              "      <td>20150225T000000</td>\n",
              "      <td>180000.0</td>\n",
              "      <td>2.0</td>\n",
              "      <td>1.00</td>\n",
              "      <td>770</td>\n",
              "      <td>10000</td>\n",
              "      <td>1.0</td>\n",
              "      <td>0</td>\n",
              "      <td>...</td>\n",
              "      <td>6</td>\n",
              "      <td>770</td>\n",
              "      <td>0</td>\n",
              "      <td>1933</td>\n",
              "      <td>0</td>\n",
              "      <td>98028</td>\n",
              "      <td>47.7379</td>\n",
              "      <td>-122.233</td>\n",
              "      <td>2720</td>\n",
              "      <td>8062</td>\n",
              "    </tr>\n",
              "    <tr>\n",
              "      <th>3</th>\n",
              "      <td>3</td>\n",
              "      <td>2487200875</td>\n",
              "      <td>20141209T000000</td>\n",
              "      <td>604000.0</td>\n",
              "      <td>4.0</td>\n",
              "      <td>3.00</td>\n",
              "      <td>1960</td>\n",
              "      <td>5000</td>\n",
              "      <td>1.0</td>\n",
              "      <td>0</td>\n",
              "      <td>...</td>\n",
              "      <td>7</td>\n",
              "      <td>1050</td>\n",
              "      <td>910</td>\n",
              "      <td>1965</td>\n",
              "      <td>0</td>\n",
              "      <td>98136</td>\n",
              "      <td>47.5208</td>\n",
              "      <td>-122.393</td>\n",
              "      <td>1360</td>\n",
              "      <td>5000</td>\n",
              "    </tr>\n",
              "    <tr>\n",
              "      <th>4</th>\n",
              "      <td>4</td>\n",
              "      <td>1954400510</td>\n",
              "      <td>20150218T000000</td>\n",
              "      <td>510000.0</td>\n",
              "      <td>3.0</td>\n",
              "      <td>2.00</td>\n",
              "      <td>1680</td>\n",
              "      <td>8080</td>\n",
              "      <td>1.0</td>\n",
              "      <td>0</td>\n",
              "      <td>...</td>\n",
              "      <td>8</td>\n",
              "      <td>1680</td>\n",
              "      <td>0</td>\n",
              "      <td>1987</td>\n",
              "      <td>0</td>\n",
              "      <td>98074</td>\n",
              "      <td>47.6168</td>\n",
              "      <td>-122.045</td>\n",
              "      <td>1800</td>\n",
              "      <td>7503</td>\n",
              "    </tr>\n",
              "  </tbody>\n",
              "</table>\n",
              "<p>5 rows × 22 columns</p>\n",
              "</div>"
            ],
            "text/plain": [
              "   Unnamed: 0          id             date     price  bedrooms  bathrooms  \\\n",
              "0           0  7129300520  20141013T000000  221900.0       3.0       1.00   \n",
              "1           1  6414100192  20141209T000000  538000.0       3.0       2.25   \n",
              "2           2  5631500400  20150225T000000  180000.0       2.0       1.00   \n",
              "3           3  2487200875  20141209T000000  604000.0       4.0       3.00   \n",
              "4           4  1954400510  20150218T000000  510000.0       3.0       2.00   \n",
              "\n",
              "   sqft_living  sqft_lot  floors  waterfront  ...  grade  sqft_above  \\\n",
              "0         1180      5650     1.0           0  ...      7        1180   \n",
              "1         2570      7242     2.0           0  ...      7        2170   \n",
              "2          770     10000     1.0           0  ...      6         770   \n",
              "3         1960      5000     1.0           0  ...      7        1050   \n",
              "4         1680      8080     1.0           0  ...      8        1680   \n",
              "\n",
              "   sqft_basement  yr_built  yr_renovated  zipcode      lat     long  \\\n",
              "0              0      1955             0    98178  47.5112 -122.257   \n",
              "1            400      1951          1991    98125  47.7210 -122.319   \n",
              "2              0      1933             0    98028  47.7379 -122.233   \n",
              "3            910      1965             0    98136  47.5208 -122.393   \n",
              "4              0      1987             0    98074  47.6168 -122.045   \n",
              "\n",
              "   sqft_living15  sqft_lot15  \n",
              "0           1340        5650  \n",
              "1           1690        7639  \n",
              "2           2720        8062  \n",
              "3           1360        5000  \n",
              "4           1800        7503  \n",
              "\n",
              "[5 rows x 22 columns]"
            ]
          },
          "execution_count": 10,
          "metadata": {},
          "output_type": "execute_result"
        }
      ],
      "source": [
        "# Load the dataset\n",
        "df = pd.read_csv(\"kc_house_data_NaN.csv\")\n",
        "print(\"Dataset loaded successfully!\")\n",
        "print(f\"Shape of the dataset: {df.shape}\")\n",
        "df.head()"
      ]
    },
    {
      "cell_type": "markdown",
      "metadata": {},
      "source": [
        "Load the csv:\n"
      ]
    },
    {
      "cell_type": "code",
      "execution_count": 11,
      "metadata": {},
      "outputs": [
        {
          "name": "stdout",
          "output_type": "stream",
          "text": [
            "============================================================\n",
            "QUESTION 1: DATA TYPES OF EACH COLUMN\n",
            "============================================================\n",
            "Data types for each column:\n",
            "\n"
          ]
        },
        {
          "data": {
            "text/plain": [
              "Unnamed: 0         int64\n",
              "id                 int64\n",
              "date              object\n",
              "price            float64\n",
              "bedrooms         float64\n",
              "bathrooms        float64\n",
              "sqft_living        int64\n",
              "sqft_lot           int64\n",
              "floors           float64\n",
              "waterfront         int64\n",
              "view               int64\n",
              "condition          int64\n",
              "grade              int64\n",
              "sqft_above         int64\n",
              "sqft_basement      int64\n",
              "yr_built           int64\n",
              "yr_renovated       int64\n",
              "zipcode            int64\n",
              "lat              float64\n",
              "long             float64\n",
              "sqft_living15      int64\n",
              "sqft_lot15         int64\n",
              "dtype: object"
            ]
          },
          "execution_count": 11,
          "metadata": {},
          "output_type": "execute_result"
        }
      ],
      "source": [
        "# Question 1: Display the data types of each column using the attribute dtypes\n",
        "print(\"=\" * 60)\n",
        "print(\"QUESTION 1: DATA TYPES OF EACH COLUMN\")\n",
        "print(\"=\" * 60)\n",
        "print(\"Data types for each column:\")\n",
        "print()\n",
        "df.dtypes"
      ]
    },
    {
      "cell_type": "markdown",
      "metadata": {},
      "source": [
        "> Note: This version of the lab is working on JupyterLite, which requires the dataset to be downloaded to the interface.While working on the downloaded version of this notebook on their local machines(Jupyter Anaconda), the learners can simply **skip the steps above,** and simply use the URL directly in the `pandas.read_csv()` function. You can uncomment and run the statements in the cell below.\n"
      ]
    },
    {
      "cell_type": "code",
      "execution_count": 12,
      "metadata": {},
      "outputs": [
        {
          "name": "stdout",
          "output_type": "stream",
          "text": [
            "============================================================\n",
            "QUESTION 2: DROP COLUMNS AND STATISTICAL SUMMARY\n",
            "============================================================\n",
            "Columns 'id' and 'Unnamed: 0' dropped successfully.\n",
            "New shape of dataset: (21613, 20)\n",
            "\n",
            "Statistical summary of the data:\n"
          ]
        },
        {
          "data": {
            "text/html": [
              "<div>\n",
              "<style scoped>\n",
              "    .dataframe tbody tr th:only-of-type {\n",
              "        vertical-align: middle;\n",
              "    }\n",
              "\n",
              "    .dataframe tbody tr th {\n",
              "        vertical-align: top;\n",
              "    }\n",
              "\n",
              "    .dataframe thead th {\n",
              "        text-align: right;\n",
              "    }\n",
              "</style>\n",
              "<table border=\"1\" class=\"dataframe\">\n",
              "  <thead>\n",
              "    <tr style=\"text-align: right;\">\n",
              "      <th></th>\n",
              "      <th>price</th>\n",
              "      <th>bedrooms</th>\n",
              "      <th>bathrooms</th>\n",
              "      <th>sqft_living</th>\n",
              "      <th>sqft_lot</th>\n",
              "      <th>floors</th>\n",
              "      <th>waterfront</th>\n",
              "      <th>view</th>\n",
              "      <th>condition</th>\n",
              "      <th>grade</th>\n",
              "      <th>sqft_above</th>\n",
              "      <th>sqft_basement</th>\n",
              "      <th>yr_built</th>\n",
              "      <th>yr_renovated</th>\n",
              "      <th>zipcode</th>\n",
              "      <th>lat</th>\n",
              "      <th>long</th>\n",
              "      <th>sqft_living15</th>\n",
              "      <th>sqft_lot15</th>\n",
              "    </tr>\n",
              "  </thead>\n",
              "  <tbody>\n",
              "    <tr>\n",
              "      <th>count</th>\n",
              "      <td>2.161300e+04</td>\n",
              "      <td>21600.000000</td>\n",
              "      <td>21603.000000</td>\n",
              "      <td>21613.000000</td>\n",
              "      <td>2.161300e+04</td>\n",
              "      <td>21613.000000</td>\n",
              "      <td>21613.000000</td>\n",
              "      <td>21613.000000</td>\n",
              "      <td>21613.000000</td>\n",
              "      <td>21613.000000</td>\n",
              "      <td>21613.000000</td>\n",
              "      <td>21613.000000</td>\n",
              "      <td>21613.000000</td>\n",
              "      <td>21613.000000</td>\n",
              "      <td>21613.000000</td>\n",
              "      <td>21613.000000</td>\n",
              "      <td>21613.000000</td>\n",
              "      <td>21613.000000</td>\n",
              "      <td>21613.000000</td>\n",
              "    </tr>\n",
              "    <tr>\n",
              "      <th>mean</th>\n",
              "      <td>5.400881e+05</td>\n",
              "      <td>3.372870</td>\n",
              "      <td>2.115736</td>\n",
              "      <td>2079.899736</td>\n",
              "      <td>1.510697e+04</td>\n",
              "      <td>1.494309</td>\n",
              "      <td>0.007542</td>\n",
              "      <td>0.234303</td>\n",
              "      <td>3.409430</td>\n",
              "      <td>7.656873</td>\n",
              "      <td>1788.390691</td>\n",
              "      <td>291.509045</td>\n",
              "      <td>1971.005136</td>\n",
              "      <td>84.402258</td>\n",
              "      <td>98077.939805</td>\n",
              "      <td>47.560053</td>\n",
              "      <td>-122.213896</td>\n",
              "      <td>1986.552492</td>\n",
              "      <td>12768.455652</td>\n",
              "    </tr>\n",
              "    <tr>\n",
              "      <th>std</th>\n",
              "      <td>3.671272e+05</td>\n",
              "      <td>0.926657</td>\n",
              "      <td>0.768996</td>\n",
              "      <td>918.440897</td>\n",
              "      <td>4.142051e+04</td>\n",
              "      <td>0.539989</td>\n",
              "      <td>0.086517</td>\n",
              "      <td>0.766318</td>\n",
              "      <td>0.650743</td>\n",
              "      <td>1.175459</td>\n",
              "      <td>828.090978</td>\n",
              "      <td>442.575043</td>\n",
              "      <td>29.373411</td>\n",
              "      <td>401.679240</td>\n",
              "      <td>53.505026</td>\n",
              "      <td>0.138564</td>\n",
              "      <td>0.140828</td>\n",
              "      <td>685.391304</td>\n",
              "      <td>27304.179631</td>\n",
              "    </tr>\n",
              "    <tr>\n",
              "      <th>min</th>\n",
              "      <td>7.500000e+04</td>\n",
              "      <td>1.000000</td>\n",
              "      <td>0.500000</td>\n",
              "      <td>290.000000</td>\n",
              "      <td>5.200000e+02</td>\n",
              "      <td>1.000000</td>\n",
              "      <td>0.000000</td>\n",
              "      <td>0.000000</td>\n",
              "      <td>1.000000</td>\n",
              "      <td>1.000000</td>\n",
              "      <td>290.000000</td>\n",
              "      <td>0.000000</td>\n",
              "      <td>1900.000000</td>\n",
              "      <td>0.000000</td>\n",
              "      <td>98001.000000</td>\n",
              "      <td>47.155900</td>\n",
              "      <td>-122.519000</td>\n",
              "      <td>399.000000</td>\n",
              "      <td>651.000000</td>\n",
              "    </tr>\n",
              "    <tr>\n",
              "      <th>25%</th>\n",
              "      <td>3.219500e+05</td>\n",
              "      <td>3.000000</td>\n",
              "      <td>1.750000</td>\n",
              "      <td>1427.000000</td>\n",
              "      <td>5.040000e+03</td>\n",
              "      <td>1.000000</td>\n",
              "      <td>0.000000</td>\n",
              "      <td>0.000000</td>\n",
              "      <td>3.000000</td>\n",
              "      <td>7.000000</td>\n",
              "      <td>1190.000000</td>\n",
              "      <td>0.000000</td>\n",
              "      <td>1951.000000</td>\n",
              "      <td>0.000000</td>\n",
              "      <td>98033.000000</td>\n",
              "      <td>47.471000</td>\n",
              "      <td>-122.328000</td>\n",
              "      <td>1490.000000</td>\n",
              "      <td>5100.000000</td>\n",
              "    </tr>\n",
              "    <tr>\n",
              "      <th>50%</th>\n",
              "      <td>4.500000e+05</td>\n",
              "      <td>3.000000</td>\n",
              "      <td>2.250000</td>\n",
              "      <td>1910.000000</td>\n",
              "      <td>7.618000e+03</td>\n",
              "      <td>1.500000</td>\n",
              "      <td>0.000000</td>\n",
              "      <td>0.000000</td>\n",
              "      <td>3.000000</td>\n",
              "      <td>7.000000</td>\n",
              "      <td>1560.000000</td>\n",
              "      <td>0.000000</td>\n",
              "      <td>1975.000000</td>\n",
              "      <td>0.000000</td>\n",
              "      <td>98065.000000</td>\n",
              "      <td>47.571800</td>\n",
              "      <td>-122.230000</td>\n",
              "      <td>1840.000000</td>\n",
              "      <td>7620.000000</td>\n",
              "    </tr>\n",
              "    <tr>\n",
              "      <th>75%</th>\n",
              "      <td>6.450000e+05</td>\n",
              "      <td>4.000000</td>\n",
              "      <td>2.500000</td>\n",
              "      <td>2550.000000</td>\n",
              "      <td>1.068800e+04</td>\n",
              "      <td>2.000000</td>\n",
              "      <td>0.000000</td>\n",
              "      <td>0.000000</td>\n",
              "      <td>4.000000</td>\n",
              "      <td>8.000000</td>\n",
              "      <td>2210.000000</td>\n",
              "      <td>560.000000</td>\n",
              "      <td>1997.000000</td>\n",
              "      <td>0.000000</td>\n",
              "      <td>98118.000000</td>\n",
              "      <td>47.678000</td>\n",
              "      <td>-122.125000</td>\n",
              "      <td>2360.000000</td>\n",
              "      <td>10083.000000</td>\n",
              "    </tr>\n",
              "    <tr>\n",
              "      <th>max</th>\n",
              "      <td>7.700000e+06</td>\n",
              "      <td>33.000000</td>\n",
              "      <td>8.000000</td>\n",
              "      <td>13540.000000</td>\n",
              "      <td>1.651359e+06</td>\n",
              "      <td>3.500000</td>\n",
              "      <td>1.000000</td>\n",
              "      <td>4.000000</td>\n",
              "      <td>5.000000</td>\n",
              "      <td>13.000000</td>\n",
              "      <td>9410.000000</td>\n",
              "      <td>4820.000000</td>\n",
              "      <td>2015.000000</td>\n",
              "      <td>2015.000000</td>\n",
              "      <td>98199.000000</td>\n",
              "      <td>47.777600</td>\n",
              "      <td>-121.315000</td>\n",
              "      <td>6210.000000</td>\n",
              "      <td>871200.000000</td>\n",
              "    </tr>\n",
              "  </tbody>\n",
              "</table>\n",
              "</div>"
            ],
            "text/plain": [
              "              price      bedrooms     bathrooms   sqft_living      sqft_lot  \\\n",
              "count  2.161300e+04  21600.000000  21603.000000  21613.000000  2.161300e+04   \n",
              "mean   5.400881e+05      3.372870      2.115736   2079.899736  1.510697e+04   \n",
              "std    3.671272e+05      0.926657      0.768996    918.440897  4.142051e+04   \n",
              "min    7.500000e+04      1.000000      0.500000    290.000000  5.200000e+02   \n",
              "25%    3.219500e+05      3.000000      1.750000   1427.000000  5.040000e+03   \n",
              "50%    4.500000e+05      3.000000      2.250000   1910.000000  7.618000e+03   \n",
              "75%    6.450000e+05      4.000000      2.500000   2550.000000  1.068800e+04   \n",
              "max    7.700000e+06     33.000000      8.000000  13540.000000  1.651359e+06   \n",
              "\n",
              "             floors    waterfront          view     condition         grade  \\\n",
              "count  21613.000000  21613.000000  21613.000000  21613.000000  21613.000000   \n",
              "mean       1.494309      0.007542      0.234303      3.409430      7.656873   \n",
              "std        0.539989      0.086517      0.766318      0.650743      1.175459   \n",
              "min        1.000000      0.000000      0.000000      1.000000      1.000000   \n",
              "25%        1.000000      0.000000      0.000000      3.000000      7.000000   \n",
              "50%        1.500000      0.000000      0.000000      3.000000      7.000000   \n",
              "75%        2.000000      0.000000      0.000000      4.000000      8.000000   \n",
              "max        3.500000      1.000000      4.000000      5.000000     13.000000   \n",
              "\n",
              "         sqft_above  sqft_basement      yr_built  yr_renovated       zipcode  \\\n",
              "count  21613.000000   21613.000000  21613.000000  21613.000000  21613.000000   \n",
              "mean    1788.390691     291.509045   1971.005136     84.402258  98077.939805   \n",
              "std      828.090978     442.575043     29.373411    401.679240     53.505026   \n",
              "min      290.000000       0.000000   1900.000000      0.000000  98001.000000   \n",
              "25%     1190.000000       0.000000   1951.000000      0.000000  98033.000000   \n",
              "50%     1560.000000       0.000000   1975.000000      0.000000  98065.000000   \n",
              "75%     2210.000000     560.000000   1997.000000      0.000000  98118.000000   \n",
              "max     9410.000000    4820.000000   2015.000000   2015.000000  98199.000000   \n",
              "\n",
              "                lat          long  sqft_living15     sqft_lot15  \n",
              "count  21613.000000  21613.000000   21613.000000   21613.000000  \n",
              "mean      47.560053   -122.213896    1986.552492   12768.455652  \n",
              "std        0.138564      0.140828     685.391304   27304.179631  \n",
              "min       47.155900   -122.519000     399.000000     651.000000  \n",
              "25%       47.471000   -122.328000    1490.000000    5100.000000  \n",
              "50%       47.571800   -122.230000    1840.000000    7620.000000  \n",
              "75%       47.678000   -122.125000    2360.000000   10083.000000  \n",
              "max       47.777600   -121.315000    6210.000000  871200.000000  "
            ]
          },
          "execution_count": 12,
          "metadata": {},
          "output_type": "execute_result"
        }
      ],
      "source": [
        "# Question 2: Drop columns 'id' and 'Unnamed: 0' from axis 1 using drop(), then use describe()\n",
        "print(\"=\" * 60)\n",
        "print(\"QUESTION 2: DROP COLUMNS AND STATISTICAL SUMMARY\")\n",
        "print(\"=\" * 60)\n",
        "\n",
        "# Drop columns 'id' and 'Unnamed: 0' with inplace=True\n",
        "df.drop(columns=['id', 'Unnamed: 0'], axis=1, inplace=True)\n",
        "print(\"Columns 'id' and 'Unnamed: 0' dropped successfully.\")\n",
        "print(f\"New shape of dataset: {df.shape}\")\n",
        "print()\n",
        "\n",
        "# Display statistical summary using describe()\n",
        "print(\"Statistical summary of the data:\")\n",
        "df.describe()"
      ]
    },
    {
      "cell_type": "markdown",
      "metadata": {},
      "source": [
        "We use the method <code>head</code> to display the first 5 columns of the dataframe.\n"
      ]
    },
    {
      "cell_type": "code",
      "execution_count": 13,
      "metadata": {},
      "outputs": [
        {
          "name": "stdout",
          "output_type": "stream",
          "text": [
            "============================================================\n",
            "QUESTION 3: FLOOR VALUE COUNTS\n",
            "============================================================\n",
            "Number of houses with unique floor values:\n",
            "        count\n",
            "floors       \n",
            "1.0     10680\n",
            "2.0      8241\n",
            "1.5      1910\n",
            "3.0       613\n",
            "2.5       161\n",
            "3.5         8\n",
            "\n",
            "Data type of result: <class 'pandas.core.frame.DataFrame'>\n"
          ]
        },
        {
          "data": {
            "text/html": [
              "<div>\n",
              "<style scoped>\n",
              "    .dataframe tbody tr th:only-of-type {\n",
              "        vertical-align: middle;\n",
              "    }\n",
              "\n",
              "    .dataframe tbody tr th {\n",
              "        vertical-align: top;\n",
              "    }\n",
              "\n",
              "    .dataframe thead th {\n",
              "        text-align: right;\n",
              "    }\n",
              "</style>\n",
              "<table border=\"1\" class=\"dataframe\">\n",
              "  <thead>\n",
              "    <tr style=\"text-align: right;\">\n",
              "      <th></th>\n",
              "      <th>count</th>\n",
              "    </tr>\n",
              "    <tr>\n",
              "      <th>floors</th>\n",
              "      <th></th>\n",
              "    </tr>\n",
              "  </thead>\n",
              "  <tbody>\n",
              "    <tr>\n",
              "      <th>1.0</th>\n",
              "      <td>10680</td>\n",
              "    </tr>\n",
              "    <tr>\n",
              "      <th>2.0</th>\n",
              "      <td>8241</td>\n",
              "    </tr>\n",
              "    <tr>\n",
              "      <th>1.5</th>\n",
              "      <td>1910</td>\n",
              "    </tr>\n",
              "    <tr>\n",
              "      <th>3.0</th>\n",
              "      <td>613</td>\n",
              "    </tr>\n",
              "    <tr>\n",
              "      <th>2.5</th>\n",
              "      <td>161</td>\n",
              "    </tr>\n",
              "    <tr>\n",
              "      <th>3.5</th>\n",
              "      <td>8</td>\n",
              "    </tr>\n",
              "  </tbody>\n",
              "</table>\n",
              "</div>"
            ],
            "text/plain": [
              "        count\n",
              "floors       \n",
              "1.0     10680\n",
              "2.0      8241\n",
              "1.5      1910\n",
              "3.0       613\n",
              "2.5       161\n",
              "3.5         8"
            ]
          },
          "execution_count": 13,
          "metadata": {},
          "output_type": "execute_result"
        }
      ],
      "source": [
        "# Question 3: Use value_counts() to count unique floor values, convert to DataFrame with to_frame()\n",
        "print(\"=\" * 60)\n",
        "print(\"QUESTION 3: FLOOR VALUE COUNTS\")\n",
        "print(\"=\" * 60)\n",
        "\n",
        "# Count the number of houses with unique floor values and convert to DataFrame\n",
        "floors_counts = df['floors'].value_counts().to_frame()\n",
        "print(\"Number of houses with unique floor values:\")\n",
        "print(floors_counts)\n",
        "print()\n",
        "print(f\"Data type of result: {type(floors_counts)}\")\n",
        "floors_counts"
      ]
    },
    {
      "cell_type": "markdown",
      "metadata": {},
      "source": [
        "### Question 1\n",
        "\n",
        "Display the data types of each column using the function dtypes. Take a screenshot of your code and output. You will need to submit the screenshot for the final project. \n"
      ]
    },
    {
      "cell_type": "code",
      "execution_count": 14,
      "metadata": {},
      "outputs": [
        {
          "name": "stdout",
          "output_type": "stream",
          "text": [
            "============================================================\n",
            "QUESTION 4: WATERFRONT VIEW vs PRICE OUTLIERS\n",
            "============================================================\n"
          ]
        },
        {
          "data": {
            "image/png": "[encoded data removed]",
            "text/plain": [
              "<Figure size 1200x800 with 1 Axes>"
            ]
          },
          "metadata": {},
          "output_type": "display_data"
        },
        {
          "name": "stdout",
          "output_type": "stream",
          "text": [
            "\n",
            "Statistics:\n",
            "Houses without waterfront view: 21450\n",
            "Houses with waterfront view: 163\n",
            "Median price (no waterfront): $450,000\n",
            "Median price (waterfront): $1,400,000\n"
          ]
        }
      ],
      "source": [
        "# Question 4: Use seaborn boxplot to determine if waterfront view affects price outliers\n",
        "print(\"=\" * 60)\n",
        "print(\"QUESTION 4: WATERFRONT VIEW vs PRICE OUTLIERS\")\n",
        "print(\"=\" * 60)\n",
        "\n",
        "# Create a figure for the boxplot\n",
        "plt.figure(figsize=(12, 8))\n",
        "\n",
        "# Create boxplot using seaborn\n",
        "sns.boxplot(data=df, x='waterfront', y='price')\n",
        "plt.title('Price Distribution by Waterfront View\\n(Determining Price Outliers)', fontsize=16, fontweight='bold')\n",
        "plt.xlabel('Waterfront View (0 = No, 1 = Yes)', fontsize=12)\n",
        "plt.ylabel('Price ($)', fontsize=12)\n",
        "\n",
        "# Format y-axis to show prices in millions\n",
        "plt.ticklabel_format(style='plain', axis='y')\n",
        "plt.gca().yaxis.set_major_formatter(plt.FuncFormatter(lambda x, p: f'${x/1e6:.1f}M'))\n",
        "\n",
        "# Add grid for better readability\n",
        "plt.grid(True, alpha=0.3)\n",
        "\n",
        "# Show the plot\n",
        "plt.tight_layout()\n",
        "plt.show()\n",
        "\n",
        "# Print some statistics\n",
        "print(\"\\nStatistics:\")\n",
        "print(f\"Houses without waterfront view: {len(df[df['waterfront'] == 0])}\")\n",
        "print(f\"Houses with waterfront view: {len(df[df['waterfront'] == 1])}\")\n",
        "print(f\"Median price (no waterfront): ${df[df['waterfront'] == 0]['price'].median():,.0f}\")\n",
        "print(f\"Median price (waterfront): ${df[df['waterfront'] == 1]['price'].median():,.0f}\")"
      ]
    },
    {
      "cell_type": "markdown",
      "metadata": {},
      "source": [
        "We use the method describe to obtain a statistical summary of the dataframe.\n"
      ]
    },
    {
      "cell_type": "code",
      "execution_count": 15,
      "metadata": {},
      "outputs": [
        {
          "name": "stdout",
          "output_type": "stream",
          "text": [
            "============================================================\n",
            "QUESTION 5: CORRELATION BETWEEN SQFT_ABOVE AND PRICE\n",
            "============================================================\n"
          ]
        },
        {
          "data": {
            "image/png": "[encoded data removed]",
            "text/plain": [
              "<Figure size 1200x800 with 1 Axes>"
            ]
          },
          "metadata": {},
          "output_type": "display_data"
        },
        {
          "name": "stdout",
          "output_type": "stream",
          "text": [
            "\n",
            "Correlation coefficient between sqft_above and price: 0.6056\n",
            "The correlation is POSITIVE - as square feet above increases, price tends to increase\n"
          ]
        }
      ],
      "source": [
        "# Question 5: Use seaborn regplot to determine correlation between sqft_above and price\n",
        "print(\"=\" * 60)\n",
        "print(\"QUESTION 5: CORRELATION BETWEEN SQFT_ABOVE AND PRICE\")\n",
        "print(\"=\" * 60)\n",
        "\n",
        "# Create a figure for the regression plot\n",
        "plt.figure(figsize=(12, 8))\n",
        "\n",
        "# Create regression plot using seaborn\n",
        "sns.regplot(data=df, x='sqft_above', y='price', scatter_kws={'alpha':0.6}, line_kws={'color':'red'})\n",
        "plt.title('Regression Plot: Square Feet Above vs Price\\n(Determining Correlation)', fontsize=16, fontweight='bold')\n",
        "plt.xlabel('Square Feet Above Ground', fontsize=12)\n",
        "plt.ylabel('Price ($)', fontsize=12)\n",
        "\n",
        "# Format y-axis to show prices in millions\n",
        "plt.ticklabel_format(style='plain', axis='y')\n",
        "plt.gca().yaxis.set_major_formatter(plt.FuncFormatter(lambda x, p: f'${x/1e6:.1f}M'))\n",
        "\n",
        "# Add grid for better readability\n",
        "plt.grid(True, alpha=0.3)\n",
        "\n",
        "# Show the plot\n",
        "plt.tight_layout()\n",
        "plt.show()\n",
        "\n",
        "# Calculate correlation coefficient\n",
        "correlation = df['sqft_above'].corr(df['price'])\n",
        "print(f\"\\nCorrelation coefficient between sqft_above and price: {correlation:.4f}\")\n",
        "\n",
        "if correlation > 0:\n",
        "    print(\"The correlation is POSITIVE - as square feet above increases, price tends to increase\")\n",
        "else:\n",
        "    print(\"The correlation is NEGATIVE - as square feet above increases, price tends to decrease\")"
      ]
    },
    {
      "cell_type": "markdown",
      "metadata": {},
      "source": [
        "# Module 2: Data Wrangling\n"
      ]
    },
    {
      "cell_type": "markdown",
      "metadata": {},
      "source": [
        "### Question 2\n",
        "\n",
        "Drop the columns <code>\"id\"</code>  and <code>\"Unnamed: 0\"</code> from axis 1 using the method <code>drop()</code>, then use the method <code>describe()</code> to obtain a statistical summary of the data. Make sure the <code>inplace</code> parameter is set to <code>True</code>. Take a screenshot of your code and output. You will need to submit the screenshot for the final project. \n"
      ]
    },
    {
      "cell_type": "code",
      "execution_count": 16,
      "metadata": {},
      "outputs": [
        {
          "name": "stdout",
          "output_type": "stream",
          "text": [
            "============================================================\n",
            "QUESTION 6: LINEAR REGRESSION - SQFT_LIVING vs PRICE\n",
            "============================================================\n",
            "Data shape after cleaning: (21613, 1)\n",
            "Feature: sqft_living\n",
            "Target: price\n",
            "\n",
            "Linear Regression Results:\n",
            "Coefficient (slope): 280.62\n",
            "Intercept: -43,580.74\n",
            "R² Score: 0.4929\n",
            "\n",
            "Interpretation:\n",
            "• For every 1 sq ft increase in living space, price increases by $280.62\n",
            "• The model explains 49.29% of the variance in house prices\n",
            "• R² = 0.4929\n"
          ]
        }
      ],
      "source": [
        "# Question 6: Fit linear regression model to predict price using 'sqft_living', calculate R²\n",
        "print(\"=\" * 60)\n",
        "print(\"QUESTION 6: LINEAR REGRESSION - SQFT_LIVING vs PRICE\")\n",
        "print(\"=\" * 60)\n",
        "\n",
        "# Prepare the data - remove any NaN values\n",
        "df_clean = df[['sqft_living', 'price']].dropna()\n",
        "\n",
        "# Create X and y\n",
        "X = df_clean[['sqft_living']]\n",
        "y = df_clean['price']\n",
        "\n",
        "print(f\"Data shape after cleaning: {X.shape}\")\n",
        "print(f\"Feature: sqft_living\")\n",
        "print(f\"Target: price\")\n",
        "\n",
        "# Create and fit the linear regression model\n",
        "lr_model = LinearRegression()\n",
        "lr_model.fit(X, y)\n",
        "\n",
        "# Make predictions\n",
        "y_pred = lr_model.predict(X)\n",
        "\n",
        "# Calculate R²\n",
        "r2_score_single = r2_score(y, y_pred)\n",
        "\n",
        "print(f\"\\nLinear Regression Results:\")\n",
        "print(f\"Coefficient (slope): {lr_model.coef_[0]:.2f}\")\n",
        "print(f\"Intercept: {lr_model.intercept_:,.2f}\")\n",
        "print(f\"R² Score: {r2_score_single:.4f}\")\n",
        "\n",
        "# Interpretation\n",
        "print(f\"\\nInterpretation:\")\n",
        "print(f\"• For every 1 sq ft increase in living space, price increases by ${lr_model.coef_[0]:.2f}\")\n",
        "print(f\"• The model explains {r2_score_single*100:.2f}% of the variance in house prices\")\n",
        "print(f\"• R² = {r2_score_single:.4f}\")"
      ]
    },
    {
      "cell_type": "markdown",
      "metadata": {},
      "source": [
        "We can see we have missing values for the columns <code> bedrooms</code>  and <code> bathrooms </code>\n"
      ]
    },
    {
      "cell_type": "code",
      "execution_count": 17,
      "metadata": {},
      "outputs": [
        {
          "name": "stdout",
          "output_type": "stream",
          "text": [
            "============================================================\n",
            "QUESTION 7: MULTIPLE FEATURES LINEAR REGRESSION\n",
            "============================================================\n",
            "Features used in the model:\n",
            " 1. floors\n",
            " 2. waterfront\n",
            " 3. lat\n",
            " 4. bedrooms\n",
            " 5. sqft_basement\n",
            " 6. view\n",
            " 7. bathrooms\n",
            " 8. sqft_living15\n",
            " 9. sqft_above\n",
            "10. grade\n",
            "11. sqft_living\n",
            "\n",
            "Data shape after cleaning: (21597, 11)\n",
            "Number of samples: 21597\n",
            "Number of features: 11\n",
            "\n",
            "Multiple Linear Regression Results:\n",
            "R² Score: 0.6578\n",
            "\n",
            "Feature Coefficients:\n",
            "  floors         :  -29294.72\n",
            "  waterfront     :  602135.29\n",
            "  lat            :  672896.28\n",
            "  bedrooms       :  -25830.48\n",
            "  sqft_basement  :      64.52\n",
            "  view           :   66996.68\n",
            "  bathrooms      :   -3755.80\n",
            "  sqft_living15  :       3.85\n",
            "  sqft_above     :      64.87\n",
            "  grade          :   82844.05\n",
            "  sqft_living    :     129.39\n",
            "\n",
            "Intercept: -32,390,277.62\n",
            "\n",
            "Interpretation:\n",
            "• The model with 11 features explains 65.78% of the variance in house prices\n",
            "• R² = 0.6578\n",
            "• This is a significant improvement over the single feature model (R² = 0.4929)\n"
          ]
        }
      ],
      "source": [
        "# Question 7: Fit linear regression model using 11 specified features\n",
        "print(\"=\" * 60)\n",
        "print(\"QUESTION 7: MULTIPLE FEATURES LINEAR REGRESSION\")\n",
        "print(\"=\" * 60)\n",
        "\n",
        "# Define the list of features as specified in the question\n",
        "features = [\"floors\", \"waterfront\", \"lat\", \"bedrooms\", \"sqft_basement\", \n",
        "           \"view\", \"bathrooms\", \"sqft_living15\", \"sqft_above\", \"grade\", \"sqft_living\"]\n",
        "\n",
        "print(\"Features used in the model:\")\n",
        "for i, feature in enumerate(features, 1):\n",
        "    print(f\"{i:2}. {feature}\")\n",
        "\n",
        "# Prepare the data - remove any NaN values\n",
        "df_features = df[features + ['price']].dropna()\n",
        "\n",
        "# Create X and y\n",
        "X_multiple = df_features[features]\n",
        "y_multiple = df_features['price']\n",
        "\n",
        "print(f\"\\nData shape after cleaning: {X_multiple.shape}\")\n",
        "print(f\"Number of samples: {X_multiple.shape[0]}\")\n",
        "print(f\"Number of features: {X_multiple.shape[1]}\")\n",
        "\n",
        "# Create and fit the linear regression model\n",
        "lr_multiple = LinearRegression()\n",
        "lr_multiple.fit(X_multiple, y_multiple)\n",
        "\n",
        "# Make predictions\n",
        "y_pred_multiple = lr_multiple.predict(X_multiple)\n",
        "\n",
        "# Calculate R²\n",
        "r2_score_multiple = r2_score(y_multiple, y_pred_multiple)\n",
        "\n",
        "print(f\"\\nMultiple Linear Regression Results:\")\n",
        "print(f\"R² Score: {r2_score_multiple:.4f}\")\n",
        "\n",
        "# Show feature coefficients\n",
        "print(f\"\\nFeature Coefficients:\")\n",
        "for feature, coef in zip(features, lr_multiple.coef_):\n",
        "    print(f\"  {feature:15}: {coef:10.2f}\")\n",
        "\n",
        "print(f\"\\nIntercept: {lr_multiple.intercept_:,.2f}\")\n",
        "print(f\"\\nInterpretation:\")\n",
        "print(f\"• The model with {len(features)} features explains {r2_score_multiple*100:.2f}% of the variance in house prices\")\n",
        "print(f\"• R² = {r2_score_multiple:.4f}\")\n",
        "print(f\"• This is a {'significant' if r2_score_multiple > r2_score_single else 'slight'} improvement over the single feature model (R² = {r2_score_single:.4f})\")"
      ]
    },
    {
      "cell_type": "markdown",
      "metadata": {},
      "source": [
        "We can replace the missing values of the column <code>'bedrooms'</code> with the mean of the column  <code>'bedrooms' </code> using the method <code>replace()</code>. Don't forget to set the <code>inplace</code> parameter to <code>True</code>\n"
      ]
    },
    {
      "cell_type": "code",
      "execution_count": 18,
      "metadata": {},
      "outputs": [
        {
          "name": "stdout",
          "output_type": "stream",
          "text": [
            "============================================================\n",
            "QUESTION 8: PIPELINE - SCALING + POLYNOMIAL + LINEAR REGRESSION\n",
            "============================================================\n",
            "Pipeline Steps:\n",
            "1. StandardScaler() - Scales the features\n",
            "2. PolynomialFeatures(degree=2) - Creates polynomial features\n",
            "3. LinearRegression() - Fits linear regression model\n",
            "\n",
            "Data used:\n",
            "Features: 11 features\n",
            "Samples: 21597 samples\n",
            "\n",
            "Fitting pipeline...\n",
            "\n",
            "Pipeline Results:\n",
            "R² Score: 0.7514\n",
            "\n",
            "Model Comparison:\n",
            "• Single feature (sqft_living):     R² = 0.4929\n",
            "• Multiple features (11):           R² = 0.6578\n",
            "• Pipeline (scaled + polynomial):   R² = 0.7514\n",
            "\n",
            "Interpretation:\n",
            "• The pipeline model explains 75.14% of the variance in house prices\n",
            "• Polynomial transformation improved the model performance\n",
            "• R² = 0.7514\n"
          ]
        }
      ],
      "source": [
        "# Question 8: Create pipeline with scaling, polynomial transform, and linear regression\n",
        "print(\"=\" * 60)\n",
        "print(\"QUESTION 8: PIPELINE - SCALING + POLYNOMIAL + LINEAR REGRESSION\")\n",
        "print(\"=\" * 60)\n",
        "\n",
        "# Create pipeline object\n",
        "pipeline = Pipeline([\n",
        "    ('scaler', StandardScaler()),          # Step 1: Scale the data\n",
        "    ('poly', PolynomialFeatures(degree=2)), # Step 2: Polynomial transformation (degree 2)\n",
        "    ('regressor', LinearRegression())       # Step 3: Linear regression\n",
        "])\n",
        "\n",
        "print(\"Pipeline Steps:\")\n",
        "print(\"1. StandardScaler() - Scales the features\")\n",
        "print(\"2. PolynomialFeatures(degree=2) - Creates polynomial features\")\n",
        "print(\"3. LinearRegression() - Fits linear regression model\")\n",
        "\n",
        "# Use the same features as in Question 7\n",
        "X_pipeline = df_features[features]\n",
        "y_pipeline = df_features['price']\n",
        "\n",
        "print(f\"\\nData used:\")\n",
        "print(f\"Features: {len(features)} features\")\n",
        "print(f\"Samples: {X_pipeline.shape[0]} samples\")\n",
        "\n",
        "# Fit the pipeline\n",
        "print(f\"\\nFitting pipeline...\")\n",
        "pipeline.fit(X_pipeline, y_pipeline)\n",
        "\n",
        "# Make predictions\n",
        "y_pred_pipeline = pipeline.predict(X_pipeline)\n",
        "\n",
        "# Calculate R²\n",
        "r2_score_pipeline = r2_score(y_pipeline, y_pred_pipeline)\n",
        "\n",
        "print(f\"\\nPipeline Results:\")\n",
        "print(f\"R² Score: {r2_score_pipeline:.4f}\")\n",
        "\n",
        "print(f\"\\nModel Comparison:\")\n",
        "print(f\"• Single feature (sqft_living):     R² = {r2_score_single:.4f}\")\n",
        "print(f\"• Multiple features (11):           R² = {r2_score_multiple:.4f}\")\n",
        "print(f\"• Pipeline (scaled + polynomial):   R² = {r2_score_pipeline:.4f}\")\n",
        "\n",
        "print(f\"\\nInterpretation:\")\n",
        "print(f\"• The pipeline model explains {r2_score_pipeline*100:.2f}% of the variance in house prices\")\n",
        "print(f\"• Polynomial transformation {'improved' if r2_score_pipeline > r2_score_multiple else 'did not improve'} the model performance\")\n",
        "print(f\"• R² = {r2_score_pipeline:.4f}\")"
      ]
    },
    {
      "cell_type": "markdown",
      "metadata": {},
      "source": [
        "We also replace the missing values of the column <code>'bathrooms'</code> with the mean of the column  <code>'bathrooms' </code> using the method <code>replace()</code>. Don't forget to set the <code> inplace </code>  parameter top <code> True </code>\n"
      ]
    },
    {
      "cell_type": "code",
      "execution_count": 19,
      "metadata": {},
      "outputs": [
        {
          "name": "stdout",
          "output_type": "stream",
          "text": [
            "============================================================\n",
            "QUESTION 9: RIDGE REGRESSION\n",
            "============================================================\n",
            "Data split:\n",
            "Training set: 17277 samples\n",
            "Testing set:  4320 samples\n",
            "\n",
            "Ridge Regression Model:\n",
            "Alpha (regularization parameter): 0.1\n",
            "\n",
            "Ridge Regression Results:\n",
            "R² Score on Test Data: 0.6568\n",
            "R² Score on Training Data: 0.6580\n",
            "\n",
            "Interpretation:\n",
            "• Ridge regression with α=0.1 explains 65.68% of variance on test data\n",
            "• Test R² = 0.6568\n",
            "• Training R² = 0.6580\n",
            "• Difference = 0.0012 (good generalization)\n"
          ]
        }
      ],
      "source": [
        "# Question 9: Create and fit Ridge regression with regularization parameter 0.1\n",
        "print(\"=\" * 60)\n",
        "print(\"QUESTION 9: RIDGE REGRESSION\")\n",
        "print(\"=\" * 60)\n",
        "\n",
        "# Split the data into training and testing sets\n",
        "X_train, X_test, y_train, y_test = train_test_split(X_pipeline, y_pipeline, \n",
        "                                                    test_size=0.2, random_state=42)\n",
        "\n",
        "print(f\"Data split:\")\n",
        "print(f\"Training set: {X_train.shape[0]} samples\")\n",
        "print(f\"Testing set:  {X_test.shape[0]} samples\")\n",
        "\n",
        "# Create and fit Ridge regression object with regularization parameter 0.1\n",
        "ridge_model = Ridge(alpha=0.1)\n",
        "ridge_model.fit(X_train, y_train)\n",
        "\n",
        "print(f\"\\nRidge Regression Model:\")\n",
        "print(f\"Alpha (regularization parameter): {ridge_model.alpha}\")\n",
        "\n",
        "# Make predictions on test data\n",
        "y_pred_ridge = ridge_model.predict(X_test)\n",
        "\n",
        "# Calculate R² using test data\n",
        "r2_score_ridge = r2_score(y_test, y_pred_ridge)\n",
        "\n",
        "print(f\"\\nRidge Regression Results:\")\n",
        "print(f\"R² Score on Test Data: {r2_score_ridge:.4f}\")\n",
        "\n",
        "# Also calculate R² on training data for comparison\n",
        "y_pred_ridge_train = ridge_model.predict(X_train)\n",
        "r2_score_ridge_train = r2_score(y_train, y_pred_ridge_train)\n",
        "\n",
        "print(f\"R² Score on Training Data: {r2_score_ridge_train:.4f}\")\n",
        "\n",
        "print(f\"\\nInterpretation:\")\n",
        "print(f\"• Ridge regression with α=0.1 explains {r2_score_ridge*100:.2f}% of variance on test data\")\n",
        "print(f\"• Test R² = {r2_score_ridge:.4f}\")\n",
        "print(f\"• Training R² = {r2_score_ridge_train:.4f}\")\n",
        "print(f\"• Difference = {abs(r2_score_ridge_train - r2_score_ridge):.4f} ({'good generalization' if abs(r2_score_ridge_train - r2_score_ridge) < 0.05 else 'potential overfitting'})\")"
      ]
    },
    {
      "cell_type": "code",
      "execution_count": 20,
      "metadata": {},
      "outputs": [
        {
          "name": "stdout",
          "output_type": "stream",
          "text": [
            "============================================================\n",
            "QUESTION 10: POLYNOMIAL TRANSFORMATION + RIDGE REGRESSION\n",
            "============================================================\n",
            "Transforming training data...\n",
            "Training data shape after polynomial transform: (17277, 78)\n",
            "Transforming testing data...\n",
            "Testing data shape after polynomial transform: (4320, 78)\n",
            "\n",
            "Polynomial transformation details:\n",
            "• Degree: 2\n",
            "• Original features: 11\n",
            "• Polynomial features: 78\n",
            "• Feature expansion: 7.1x\n",
            "\n",
            "Ridge Regression Model (with polynomial features):\n",
            "Alpha (regularization parameter): 0.1\n",
            "\n",
            "Final Results:\n",
            "R² Score on Test Data: 0.6906\n",
            "R² Score on Training Data: 0.7376\n",
            "\n",
            "============================================================\n",
            "FINAL MODEL COMPARISON\n",
            "============================================================\n",
            "1. Single feature (sqft_living):           R² = 0.4929\n",
            "2. Multiple features (11):                 R² = 0.6578\n",
            "3. Pipeline (scaled + polynomial):         R² = 0.7514\n",
            "4. Ridge regression:                       R² = 0.6568\n",
            "5. Ridge + Polynomial (Final):             R² = 0.6906\n",
            "\n",
            "Final Answer:\n",
            "• Ridge regression with polynomial features explains 69.06% of variance\n",
            "• Final R² = 0.6906\n",
            "• Generalization gap: 0.0470\n"
          ]
        }
      ],
      "source": [
        "# Question 10: Second-order polynomial transform + Ridge regression\n",
        "print(\"=\" * 60)\n",
        "print(\"QUESTION 10: POLYNOMIAL TRANSFORMATION + RIDGE REGRESSION\")\n",
        "print(\"=\" * 60)\n",
        "\n",
        "# Step 1: Perform second-order polynomial transformation on training and testing data\n",
        "poly_transform = PolynomialFeatures(degree=2)\n",
        "\n",
        "# Transform training data\n",
        "print(\"Transforming training data...\")\n",
        "X_train_poly = poly_transform.fit_transform(X_train)\n",
        "print(f\"Training data shape after polynomial transform: {X_train_poly.shape}\")\n",
        "\n",
        "# Transform testing data\n",
        "print(\"Transforming testing data...\")\n",
        "X_test_poly = poly_transform.transform(X_test)\n",
        "print(f\"Testing data shape after polynomial transform: {X_test_poly.shape}\")\n",
        "\n",
        "print(f\"\\nPolynomial transformation details:\")\n",
        "print(f\"• Degree: 2\")\n",
        "print(f\"• Original features: {X_train.shape[1]}\")\n",
        "print(f\"• Polynomial features: {X_train_poly.shape[1]}\")\n",
        "print(f\"• Feature expansion: {X_train_poly.shape[1] / X_train.shape[1]:.1f}x\")\n",
        "\n",
        "# Step 2: Create and fit Ridge regression with regularization parameter 0.1\n",
        "ridge_poly_model = Ridge(alpha=0.1)\n",
        "ridge_poly_model.fit(X_train_poly, y_train)\n",
        "\n",
        "print(f\"\\nRidge Regression Model (with polynomial features):\")\n",
        "print(f\"Alpha (regularization parameter): {ridge_poly_model.alpha}\")\n",
        "\n",
        "# Step 3: Calculate R² using test data\n",
        "y_pred_ridge_poly = ridge_poly_model.predict(X_test_poly)\n",
        "r2_score_ridge_poly = r2_score(y_test, y_pred_ridge_poly)\n",
        "\n",
        "# Also calculate training R² for comparison\n",
        "y_pred_ridge_poly_train = ridge_poly_model.predict(X_train_poly)\n",
        "r2_score_ridge_poly_train = r2_score(y_train, y_pred_ridge_poly_train)\n",
        "\n",
        "print(f\"\\nFinal Results:\")\n",
        "print(f\"R² Score on Test Data: {r2_score_ridge_poly:.4f}\")\n",
        "print(f\"R² Score on Training Data: {r2_score_ridge_poly_train:.4f}\")\n",
        "\n",
        "print(f\"\\n\" + \"=\"*60)\n",
        "print(\"FINAL MODEL COMPARISON\")\n",
        "print(\"=\"*60)\n",
        "print(f\"1. Single feature (sqft_living):           R² = {r2_score_single:.4f}\")\n",
        "print(f\"2. Multiple features (11):                 R² = {r2_score_multiple:.4f}\")\n",
        "print(f\"3. Pipeline (scaled + polynomial):         R² = {r2_score_pipeline:.4f}\")\n",
        "print(f\"4. Ridge regression:                       R² = {r2_score_ridge:.4f}\")\n",
        "print(f\"5. Ridge + Polynomial (Final):             R² = {r2_score_ridge_poly:.4f}\")\n",
        "\n",
        "print(f\"\\nFinal Answer:\")\n",
        "print(f\"• Ridge regression with polynomial features explains {r2_score_ridge_poly*100:.2f}% of variance\")\n",
        "print(f\"• Final R² = {r2_score_ridge_poly:.4f}\")\n",
        "print(f\"• Generalization gap: {abs(r2_score_ridge_poly_train - r2_score_ridge_poly):.4f}\")"
      ]
    },
    {
      "cell_type": "markdown",
      "metadata": {},
      "source": [
        "# Module 3: Exploratory Data Analysis\n"
      ]
    },
    {
      "cell_type": "markdown",
      "metadata": {},
      "source": [
        "### Question 3\n",
        "\n",
        "Use the method <code>value_counts</code> to count the number of houses with unique floor values, use the method <code>.to_frame()</code> to convert it to a data frame. Take a screenshot of your code and output. You will need to submit the screenshot for the final project. \n"
      ]
    },
    {
      "cell_type": "code",
      "execution_count": 21,
      "metadata": {},
      "outputs": [],
      "source": [
        "#Enter Your Code, Execute and take the Screenshot"
      ]
    },
    {
      "cell_type": "markdown",
      "metadata": {},
      "source": [
        "### Question 4\n",
        "\n",
        "Use the function <code>boxplot</code> in the seaborn library  to  determine whether houses with a waterfront view or without a waterfront view have more price outliers. Take a screenshot of your code and boxplot. You will need to submit the screenshot for the final project. \n"
      ]
    },
    {
      "cell_type": "code",
      "execution_count": 22,
      "metadata": {},
      "outputs": [
        {
          "data": {
            "image/png": "[encoded data removed]",
            "text/plain": [
              "<Figure size 1000x600 with 1 Axes>"
            ]
          },
          "metadata": {},
          "output_type": "display_data"
        },
        {
          "name": "stdout",
          "output_type": "stream",
          "text": [
            "Waterfront houses tend to have higher prices and more high-value outliers\n"
          ]
        }
      ],
      "source": [
        "# Question 4: Use boxplot to determine waterfront view vs price outliers\n",
        "import seaborn as sns\n",
        "import matplotlib.pyplot as plt\n",
        "\n",
        "plt.figure(figsize=(10, 6))\n",
        "sns.boxplot(data=df, x='waterfront', y='price')\n",
        "plt.title('Price Distribution by Waterfront View')\n",
        "plt.xlabel('Waterfront (0 = No, 1 = Yes)')\n",
        "plt.ylabel('Price')\n",
        "plt.show()\n",
        "\n",
        "print(\"Waterfront houses tend to have higher prices and more high-value outliers\")"
      ]
    },
    {
      "cell_type": "markdown",
      "metadata": {},
      "source": [
        "### Question 5\n",
        "\n",
        "Use the function <code>regplot</code>  in the seaborn library  to  determine if the feature <code>sqft_above</code> is negatively or positively correlated with price. Take a screenshot of your code and scatterplot. You will need to submit the screenshot for the final project. \n"
      ]
    },
    {
      "cell_type": "code",
      "execution_count": 23,
      "metadata": {},
      "outputs": [
        {
          "data": {
            "image/png": "[encoded data removed]",
            "text/plain": [
              "<Figure size 1000x600 with 1 Axes>"
            ]
          },
          "metadata": {},
          "output_type": "display_data"
        },
        {
          "name": "stdout",
          "output_type": "stream",
          "text": [
            "Correlation coefficient: 0.6056\n",
            "sqft_above is POSITIVELY correlated with price\n"
          ]
        }
      ],
      "source": [
        "# Question 5: Use regplot to determine correlation between sqft_above and price\n",
        "plt.figure(figsize=(10, 6))\n",
        "sns.regplot(data=df, x='sqft_above', y='price', scatter_kws={'alpha':0.5})\n",
        "plt.title('Regression Plot: Square Feet Above vs Price')\n",
        "plt.xlabel('Square Feet Above Ground')\n",
        "plt.ylabel('Price')\n",
        "plt.show()\n",
        "\n",
        "# Calculate correlation\n",
        "correlation = df['sqft_above'].corr(df['price'])\n",
        "print(f\"Correlation coefficient: {correlation:.4f}\")\n",
        "if correlation > 0:\n",
        "    print(\"sqft_above is POSITIVELY correlated with price\")\n",
        "else:\n",
        "    print(\"sqft_above is NEGATIVELY correlated with price\")"
      ]
    },
    {
      "cell_type": "markdown",
      "metadata": {},
      "source": [
        "We can use the Pandas method <code>corr()</code>  to find the feature other than price that is most correlated with price.\n"
      ]
    },
    {
      "cell_type": "code",
      "execution_count": 24,
      "metadata": {},
      "outputs": [
        {
          "data": {
            "text/plain": [
              "zipcode         -0.053203\n",
              "long             0.021626\n",
              "condition        0.036362\n",
              "yr_built         0.054012\n",
              "sqft_lot15       0.082447\n",
              "sqft_lot         0.089661\n",
              "yr_renovated     0.126434\n",
              "floors           0.256794\n",
              "waterfront       0.266369\n",
              "lat              0.307003\n",
              "bedrooms         0.308890\n",
              "sqft_basement    0.323816\n",
              "view             0.397293\n",
              "bathrooms        0.525885\n",
              "sqft_living15    0.585379\n",
              "sqft_above       0.605567\n",
              "grade            0.667434\n",
              "sqft_living      0.702035\n",
              "price            1.000000\n",
              "Name: price, dtype: float64"
            ]
          },
          "execution_count": 24,
          "metadata": {},
          "output_type": "execute_result"
        }
      ],
      "source": [
        "df_numeric = df.select_dtypes(include=[np.number])\n",
        "df_numeric.corr()['price'].sort_values()"
      ]
    },
    {
      "cell_type": "markdown",
      "metadata": {},
      "source": [
        "# Module 4: Model Development\n"
      ]
    },
    {
      "cell_type": "markdown",
      "metadata": {},
      "source": [
        "We can Fit a linear regression model using the  longitude feature <code>'long'</code> and  caculate the R^2.\n"
      ]
    },
    {
      "cell_type": "code",
      "execution_count": 25,
      "metadata": {},
      "outputs": [
        {
          "data": {
            "text/plain": [
              "0.0004676943014898516"
            ]
          },
          "execution_count": 25,
          "metadata": {},
          "output_type": "execute_result"
        }
      ],
      "source": [
        "X = df[['long']]\n",
        "Y = df['price']\n",
        "lm = LinearRegression()\n",
        "lm.fit(X,Y)\n",
        "lm.score(X, Y)"
      ]
    },
    {
      "cell_type": "markdown",
      "metadata": {},
      "source": [
        "### Question  6\n",
        "\n",
        "Fit a linear regression model to predict the <code>'price'</code> using the feature <code>'sqft_living'</code> then calculate the R^2. Take a screenshot of your code and the value of the R^2. You will need to submit it for the final project.\n"
      ]
    },
    {
      "cell_type": "code",
      "execution_count": 26,
      "metadata": {},
      "outputs": [
        {
          "name": "stdout",
          "output_type": "stream",
          "text": [
            "R^2 value for sqft_living vs price: 0.4929\n",
            "R^2 using r2_score: 0.4929\n",
            "Coefficient: 280.62\n",
            "Intercept: -43580.74\n"
          ]
        }
      ],
      "source": [
        "# Question 6: Fit linear regression model using sqft_living to predict price\n",
        "from sklearn.linear_model import LinearRegression\n",
        "from sklearn.metrics import r2_score\n",
        "\n",
        "X = df[['sqft_living']]\n",
        "Y = df['price']\n",
        "\n",
        "# Create and fit the linear regression model\n",
        "lm = LinearRegression()\n",
        "lm.fit(X, Y)\n",
        "\n",
        "# Calculate R^2\n",
        "r2 = lm.score(X, Y)\n",
        "print(f\"R^2 value for sqft_living vs price: {r2:.4f}\")\n",
        "\n",
        "# Additional information\n",
        "y_pred = lm.predict(X)\n",
        "r2_alt = r2_score(Y, y_pred)\n",
        "print(f\"R^2 using r2_score: {r2_alt:.4f}\")\n",
        "print(f\"Coefficient: {lm.coef_[0]:.2f}\")\n",
        "print(f\"Intercept: {lm.intercept_:.2f}\")"
      ]
    },
    {
      "cell_type": "markdown",
      "metadata": {},
      "source": [
        "### Question 7\n",
        "\n",
        "Fit a linear regression model to predict the <code>'price'</code> using the list of features:\n"
      ]
    },
    {
      "cell_type": "code",
      "execution_count": 27,
      "metadata": {},
      "outputs": [],
      "source": [
        "features =[\"floors\", \"waterfront\",\"lat\" ,\"bedrooms\" ,\"sqft_basement\" ,\"view\" ,\"bathrooms\",\"sqft_living15\",\"sqft_above\",\"grade\",\"sqft_living\"]     "
      ]
    },
    {
      "cell_type": "markdown",
      "metadata": {},
      "source": [
        "Then calculate the R^2. Take a screenshot of your code and the value of the R^2. You will need to submit it for the final project.\n"
      ]
    },
    {
      "cell_type": "code",
      "execution_count": 28,
      "metadata": {},
      "outputs": [
        {
          "name": "stdout",
          "output_type": "stream",
          "text": [
            "R^2 value for multiple features: 0.6578\n",
            "\n",
            "Features used: ['floors', 'waterfront', 'lat', 'bedrooms', 'sqft_basement', 'view', 'bathrooms', 'sqft_living15', 'sqft_above', 'grade', 'sqft_living']\n",
            "Number of features: 11\n",
            "Data shape: (21597, 11)\n",
            "\n",
            "Feature coefficients:\n",
            "floors         :  -29294.72\n",
            "waterfront     :  602135.29\n",
            "lat            :  672896.28\n",
            "bedrooms       :  -25830.48\n",
            "sqft_basement  :      64.52\n",
            "view           :   66996.68\n",
            "bathrooms      :   -3755.80\n",
            "sqft_living15  :       3.85\n",
            "sqft_above     :      64.87\n",
            "grade          :   82844.05\n",
            "sqft_living    :     129.39\n",
            "Intercept      : -32390277.62\n"
          ]
        }
      ],
      "source": [
        "# Question 7: Fit linear regression model using multiple features\n",
        "# Clean the data to remove any rows with NaN values in the selected features\n",
        "df_clean = df[features + ['price']].dropna()\n",
        "\n",
        "X = df_clean[features]\n",
        "Y = df_clean['price']\n",
        "\n",
        "# Create and fit the linear regression model\n",
        "lm_multi = LinearRegression()\n",
        "lm_multi.fit(X, Y)\n",
        "\n",
        "# Calculate R^2\n",
        "r2_multi = lm_multi.score(X, Y)\n",
        "print(f\"R^2 value for multiple features: {r2_multi:.4f}\")\n",
        "\n",
        "print(f\"\\nFeatures used: {features}\")\n",
        "print(f\"Number of features: {len(features)}\")\n",
        "print(f\"Data shape: {X.shape}\")\n",
        "\n",
        "# Show feature coefficients\n",
        "print(\"\\nFeature coefficients:\")\n",
        "for feature, coef in zip(features, lm_multi.coef_):\n",
        "    print(f\"{feature:15}: {coef:10.2f}\")\n",
        "print(f\"{'Intercept':15}: {lm_multi.intercept_:10.2f}\")"
      ]
    },
    {
      "cell_type": "markdown",
      "metadata": {},
      "source": [
        "### This will help with Question 8\n",
        "\n",
        "Create a list of tuples, the first element in the tuple contains the name of the estimator:\n",
        "\n",
        "<code>'scale'</code>\n",
        "\n",
        "<code>'polynomial'</code>\n",
        "\n",
        "<code>'model'</code>\n",
        "\n",
        "The second element in the tuple  contains the model constructor\n",
        "\n",
        "<code>StandardScaler()</code>\n",
        "\n",
        "<code>PolynomialFeatures(include_bias=False)</code>\n",
        "\n",
        "<code>LinearRegression()</code>\n"
      ]
    },
    {
      "cell_type": "code",
      "execution_count": 29,
      "metadata": {},
      "outputs": [],
      "source": [
        "Input=[('scale',StandardScaler()),('polynomial', PolynomialFeatures(include_bias=False)),('model',LinearRegression())]"
      ]
    },
    {
      "cell_type": "markdown",
      "metadata": {},
      "source": [
        "### Question 8\n",
        "\n",
        "Use the list to create a pipeline object to predict the 'price', fit the object using the features in the list <code>features</code>, and calculate the R^2. Take a screenshot of your code and the value of the R^2. You will need to submit it for the final project.\n"
      ]
    },
    {
      "cell_type": "code",
      "execution_count": 30,
      "metadata": {},
      "outputs": [],
      "source": [
        "#Enter Your Code, Execute and take the Screenshot"
      ]
    },
    {
      "cell_type": "markdown",
      "metadata": {},
      "source": [
        "# Module 5: Model Evaluation and Refinement\n"
      ]
    },
    {
      "cell_type": "markdown",
      "metadata": {},
      "source": [
        "Import the necessary modules:\n"
      ]
    },
    {
      "cell_type": "code",
      "execution_count": 31,
      "metadata": {},
      "outputs": [
        {
          "name": "stdout",
          "output_type": "stream",
          "text": [
            "done\n"
          ]
        }
      ],
      "source": [
        "from sklearn.model_selection import cross_val_score\n",
        "from sklearn.model_selection import train_test_split\n",
        "print(\"done\")"
      ]
    },
    {
      "cell_type": "markdown",
      "metadata": {},
      "source": [
        "We will split the data into training and testing sets:\n"
      ]
    },
    {
      "cell_type": "code",
      "execution_count": 32,
      "metadata": {},
      "outputs": [
        {
          "name": "stdout",
          "output_type": "stream",
          "text": [
            "number of test samples: 3242\n",
            "number of training samples: 18371\n"
          ]
        }
      ],
      "source": [
        "features =[\"floors\", \"waterfront\",\"lat\" ,\"bedrooms\" ,\"sqft_basement\" ,\"view\" ,\"bathrooms\",\"sqft_living15\",\"sqft_above\",\"grade\",\"sqft_living\"]    \n",
        "X = df[features]\n",
        "Y = df['price']\n",
        "\n",
        "x_train, x_test, y_train, y_test = train_test_split(X, Y, test_size=0.15, random_state=1)\n",
        "\n",
        "\n",
        "print(\"number of test samples:\", x_test.shape[0])\n",
        "print(\"number of training samples:\",x_train.shape[0])"
      ]
    },
    {
      "cell_type": "markdown",
      "metadata": {},
      "source": [
        "### Question 9\n",
        "\n",
        "Create and fit a Ridge regression object using the training data, set the regularization parameter to 0.1, and calculate the R^2 using the test data. Take a screenshot of your code and the value of the R^2. You will need to submit it for the final project.\n"
      ]
    },
    {
      "cell_type": "code",
      "execution_count": 33,
      "metadata": {},
      "outputs": [],
      "source": [
        "from sklearn.linear_model import Ridge"
      ]
    },
    {
      "cell_type": "code",
      "execution_count": 34,
      "metadata": {},
      "outputs": [],
      "source": [
        "#Enter Your Code, Execute and take the Screenshot"
      ]
    },
    {
      "cell_type": "markdown",
      "metadata": {},
      "source": [
        "### Question 10\n",
        "\n",
        "Perform a second order polynomial transform on both the training data and testing data. Create and fit a Ridge regression object using the training data, set the regularisation parameter to 0.1, and calculate the R^2 utilising the test data provided. Take a screenshot of your code and the R^2. You will need to submit it for the final project.\n"
      ]
    },
    {
      "cell_type": "code",
      "execution_count": 35,
      "metadata": {},
      "outputs": [],
      "source": [
        "#Enter Your Code, Execute and take the Screenshot"
      ]
    },
    {
      "cell_type": "markdown",
      "metadata": {},
      "source": [
        "<p>Once you complete your notebook you will have to share it. You can download the notebook by navigating to \"File\" and clicking on \"Download\" button.\n",
        "        <p><img width=\"600\" src=\"https://cf-courses-data.s3.us.cloud-object-storage.appdomain.cloud/IBMDeveloperSkillsNetwork-DA0101EN-SkillsNetwork/labs/Module%206/images/DA0101EN_FA_Image21.png\" alt=\"share notebook\" style=\"display: block; margin-left: auto; margin-right: auto;\"></p>\n",
        "        <p></p>\n",
        "<p>This will save the (.ipynb) file on your computer. Once saved, you can upload this file in the \"My Submission\" tab, of the \"Peer-graded Assignment\" section.  \n",
        "          \n"
      ]
    },
    {
      "cell_type": "markdown",
      "metadata": {},
      "source": [
        "<h2>About the Authors:</h2> \n",
        "\n",
        "<a href=\"https://www.linkedin.com/in/joseph-s-50398b136/?utm_medium=Exinfluencer&utm_source=Exinfluencer&utm_content=000026UJ&utm_term=10006555&utm_id=NA-SkillsNetwork-Channel-SkillsNetworkCoursesIBMDeveloperSkillsNetworkDA0101ENSkillsNetwork20235326-2022-01-01\">Joseph Santarcangelo</a> has a PhD in Electrical Engineering, his research focused on using machine learning, signal processing, and computer vision to determine how videos impact human cognition. Joseph has been working for IBM since he completed his PhD.\n"
      ]
    },
    {
      "cell_type": "markdown",
      "metadata": {},
      "source": [
        "Other contributors: <a href=\"https://www.linkedin.com/in/michelleccarey/?utm_medium=Exinfluencer&utm_source=Exinfluencer&utm_content=000026UJ&utm_term=10006555&utm_id=NA-SkillsNetwork-Channel-SkillsNetworkCoursesIBMDeveloperSkillsNetworkDA0101ENSkillsNetwork20235326-2022-01-01\">Michelle Carey</a>, <a href=\"https://www.linkedin.com/in/jiahui-mavis-zhou-a4537814a?utm_medium=Exinfluencer&utm_source=Exinfluencer&utm_content=000026UJ&utm_term=10006555&utm_id=NA-SkillsNetwork-Channel-SkillsNetworkCoursesIBMDeveloperSkillsNetworkDA0101ENSkillsNetwork20235326-2022-01-01\">Mavis Zhou</a>\n"
      ]
    },
    {
      "cell_type": "markdown",
      "metadata": {},
      "source": [
        "\n",
        "## <h3 align=\"center\"> © IBM Corporation 2020. All rights reserved. <h3/>\n",
        "<!--## Change Log\n",
        "\n",
        "| Date (YYYY-MM-DD) | Version | Changed By      | Change Description                           |\n",
        "| ----------------- | ------- | --------------- | -------------------------------------------- |\n",
        "| 2020-12-01        | 2.2     | Aije Egwaikhide | Coverted Data describtion from text to table |\n",
        "| 2020-10-06        | 2.1     | Lakshmi Holla   | Changed markdown instruction of Question1    |\n",
        "| 2020-08-27        | 2.0     | Malika Singla   | Added lab to GitLab                          |\n",
        "| 2022-06-13        | 2.3     | Svitlana Kramar | Updated Notebook sharing instructions        |\n",
        "| <hr>              |         |                 |                                              |\n",
        "\n",
        "\n",
        "--!>\n",
        "<p>\n"
      ]
    }
  ],
  "metadata": {
    "kernelspec": {
      "display_name": ".venv (3.13.7)",
      "language": "python",
      "name": "python3"
    },
    "language_info": {
      "codemirror_mode": {
        "name": "ipython",
        "version": 3
      },
      "file_extension": ".py",
      "mimetype": "text/x-python",
      "name": "python",
      "nbconvert_exporter": "python",
      "pygments_lexer": "ipython3",
      "version": "3.13.7"
    },
    "prev_pub_hash": "c38626bfb2a4d62e21d4b34234dd2d6ada473733f3541d1e25de3f51adec1fff"
  },
  "nbformat": 4,
  "nbformat_minor": 4
}
